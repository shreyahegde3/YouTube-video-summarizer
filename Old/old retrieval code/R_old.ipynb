{
 "cells": [
  {
   "cell_type": "code",
   "execution_count": 26,
   "metadata": {},
   "outputs": [],
   "source": [
    "from sentence_transformers import SentenceTransformer, CrossEncoder\n",
    "from pinecone import Pinecone\n",
    "from rank_bm25 import BM25Okapi\n",
    "\n",
    "# Initialize Pinecone\n",
    "pc = Pinecone(api_key=\"pcsk_3rWW1w_Eua9C9tD1rbQybpChVD9nDijUycon7auXNs3afy7T2Z2zK2YnSHEFeLmKJsx4pp\", region=\"us-east-1\")\n",
    "index_name = \"video-embeddings\"\n",
    "index = pc.Index(index_name)\n",
    "\n",
    "# Load Sentence Transformer model\n",
    "model = SentenceTransformer(\"all-MiniLM-L6-v2\")\n",
    "reranker = CrossEncoder(\"cross-encoder/ms-marco-MiniLM-L-6-v2\")\n",
    "\n",
    "def get_embedding(text):\n",
    "    \"\"\"Generates an embedding using Sentence Transformers.\"\"\"\n",
    "    return model.encode(text).tolist()\n",
    "\n",
    "def bm25_search(query, corpus):\n",
    "    \"\"\"Performs BM25 keyword search on the given corpus.\"\"\"\n",
    "    tokenized_corpus = [doc.split() for doc in corpus]\n",
    "    bm25 = BM25Okapi(tokenized_corpus)\n",
    "    tokenized_query = query.split()\n",
    "    scores = bm25.get_scores(tokenized_query)\n",
    "    return sorted(zip(corpus, scores), key=lambda x: x[1], reverse=True)[:5]\n",
    "\n",
    "def rerank_results(query, retrieved_texts):\n",
    "    \"\"\"Re-ranks results using a Cross-Encoder model.\"\"\"\n",
    "    pairs = [(query, text) for text in retrieved_texts]\n",
    "    scores = reranker.predict(pairs)\n",
    "    sorted_results = [text for _, text in sorted(zip(scores, retrieved_texts), reverse=True)]\n",
    "    return sorted_results\n",
    "\n",
    "def search_transcript(user_query, top_k=10):\n",
    "    \"\"\"Searches Pinecone for relevant transcript sections based on a user query using hybrid search.\"\"\"\n",
    "    \n",
    "    # Convert query to embedding\n",
    "    query_embedding = get_embedding(user_query)\n",
    "    \n",
    "    # Semantic search in Pinecone (without using metadata)\n",
    "    result = index.query(vector=query_embedding, top_k=top_k)\n",
    "    \n",
    "    # Extracting only the retrieved text chunks (no metadata)\n",
    "    pinecone_results = [match['id'] for match in result['matches']]\n",
    "    \n",
    "    # Re-rank the combined results\n",
    "    final_results = rerank_results(user_query, pinecone_results)\n",
    "    \n",
    "    return final_results\n"
   ]
  },
  {
   "cell_type": "code",
   "execution_count": 28,
   "metadata": {},
   "outputs": [
    {
     "name": "stdout",
     "output_type": "stream",
     "text": [
      "\n",
      "🔹 Most Relevant Transcript Sections:\n",
      "1. ukzFI9rgwfU_1\n",
      "\n",
      "2. ukzFI9rgwfU_33\n",
      "\n",
      "3. VMj-3S1tku0_44\n",
      "\n",
      "4. i_LwzRVP7bg_158\n",
      "\n",
      "5. VMj-3S1tku0_307\n",
      "\n",
      "6. i_LwzRVP7bg_16\n",
      "\n",
      "7. i_LwzRVP7bg_14\n",
      "\n",
      "8. bmmQA8A-yUA_20\n",
      "\n",
      "9. bmmQA8A-yUA_25\n",
      "\n",
      "10. bmmQA8A-yUA_24\n",
      "\n"
     ]
    }
   ],
   "source": [
    "user_query = \"What are machines?\"\n",
    "retrieved_results = search_transcript(user_query)\n",
    "\n",
    "print(\"\\n🔹 Most Relevant Transcript Sections:\")\n",
    "for idx, section in enumerate(retrieved_results, 1):\n",
    "    print(f\"{idx}. {section}\\n\")\n"
   ]
  },
  {
   "cell_type": "code",
   "execution_count": null,
   "metadata": {},
   "outputs": [],
   "source": []
  }
 ],
 "metadata": {
  "kernelspec": {
   "display_name": "Python 3",
   "language": "python",
   "name": "python3"
  },
  "language_info": {
   "codemirror_mode": {
    "name": "ipython",
    "version": 3
   },
   "file_extension": ".py",
   "mimetype": "text/x-python",
   "name": "python",
   "nbconvert_exporter": "python",
   "pygments_lexer": "ipython3",
   "version": "3.12.5"
  }
 },
 "nbformat": 4,
 "nbformat_minor": 2
}
