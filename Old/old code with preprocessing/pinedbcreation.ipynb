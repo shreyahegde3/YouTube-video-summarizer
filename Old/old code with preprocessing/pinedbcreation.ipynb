{
 "cells": [
  {
   "cell_type": "code",
   "execution_count": 19,
   "metadata": {},
   "outputs": [
    {
     "name": "stdout",
     "output_type": "stream",
     "text": [
      "2.2.4\n"
     ]
    },
    {
     "ename": "AttributeError",
     "evalue": "module 'pinecone' has no attribute 'Client'",
     "output_type": "error",
     "traceback": [
      "\u001b[1;31m---------------------------------------------------------------------------\u001b[0m",
      "\u001b[1;31mAttributeError\u001b[0m                            Traceback (most recent call last)",
      "Cell \u001b[1;32mIn[19], line 7\u001b[0m\n\u001b[0;32m      1\u001b[0m \u001b[38;5;28;01mimport\u001b[39;00m \u001b[38;5;21;01mpinecone\u001b[39;00m\n\u001b[0;32m      3\u001b[0m \u001b[38;5;28mprint\u001b[39m(pinecone\u001b[38;5;241m.\u001b[39m__version__)  \u001b[38;5;66;03m# Should print 6.0.0 or the latest version\u001b[39;00m\n\u001b[1;32m----> 7\u001b[0m \u001b[43mpinecone\u001b[49m\u001b[38;5;241;43m.\u001b[39;49m\u001b[43mClient\u001b[49m(api_key\u001b[38;5;241m=\u001b[39m\u001b[38;5;124m\"\u001b[39m\u001b[38;5;124mpcsk_37SH8K_BZhuTuPJwF9D5AM3vZdnDQfM3cuqLttVkpcgm6pFui3d7G1QRujStUSHD1FK7kD\u001b[39m\u001b[38;5;124m\"\u001b[39m, environment\u001b[38;5;241m=\u001b[39m\u001b[38;5;124m\"\u001b[39m\u001b[38;5;124mus-east-1\u001b[39m\u001b[38;5;124m\"\u001b[39m)\n\u001b[0;32m      8\u001b[0m \u001b[38;5;66;03m# Define the index name\u001b[39;00m\n\u001b[0;32m      9\u001b[0m index_name \u001b[38;5;241m=\u001b[39m \u001b[38;5;124m\"\u001b[39m\u001b[38;5;124membeddings\u001b[39m\u001b[38;5;124m\"\u001b[39m\n",
      "\u001b[1;31mAttributeError\u001b[0m: module 'pinecone' has no attribute 'Client'"
     ]
    }
   ],
   "source": [
    "import pinecone\n",
    "\n",
    "print(pinecone.__version__)  # Should print 6.0.0 or the latest version\n",
    "\n",
    "\n",
    "\n",
    "pinecone.Client(api_key=\"pcsk_37SH8K_BZhuTuPJwF9D5AM3vZdnDQfM3cuqLttVkpcgm6pFui3d7G1QRujStUSHD1FK7kD\", environment=\"us-east-1\")\n",
    "# Define the index name\n",
    "index_name = \"embeddings\"\n",
    "\n",
    "# Check if index exists, if not, create it\n",
    "if index_name not in pinecone.list_indexes():\n",
    "    pinecone.create_index(\n",
    "        name=index_name, \n",
    "        dimension=384,  # Adjust based on your embedding model\n",
    "        metric=\"cosine\"\n",
    "    )\n",
    "\n",
    "# Connect to the index\n",
    "index = pinecone.Index(index_name)\n",
    "print(\"Pinecone is set up successfully!\")\n",
    "\n",
    "# Define the index name\n",
    "index_name = \"embeddings\"\n",
    "\n",
    "# Check if index exists, if not, create it\n",
    "if index_name not in pinecone.list_indexes():\n",
    "    pinecone.create_index(\n",
    "        name=index_name, \n",
    "        dimension=384,  # Adjust based on your embeddings model\n",
    "        metric=\"cosine\"\n",
    "    )"
   ]
  },
  {
   "cell_type": "code",
   "execution_count": 22,
   "metadata": {},
   "outputs": [
    {
     "name": "stdout",
     "output_type": "stream",
     "text": [
      "2.2.4\n"
     ]
    }
   ],
   "source": [
    "\n",
    "print(pinecone.__version__)  # Should print 6.0.0 or the latest version"
   ]
  },
  {
   "cell_type": "code",
   "execution_count": 21,
   "metadata": {},
   "outputs": [
    {
     "name": "stderr",
     "output_type": "stream",
     "text": [
      "WARNING: Skipping pinecone as it is not installed.\n"
     ]
    },
    {
     "name": "stdout",
     "output_type": "stream",
     "text": [
      "Requirement already satisfied: pinecone-client in c:\\users\\hp world\\appdata\\local\\programs\\python\\python312\\lib\\site-packages (6.0.0)\n",
      "Requirement already satisfied: certifi>=2019.11.17 in c:\\users\\hp world\\appdata\\local\\programs\\python\\python312\\lib\\site-packages (from pinecone-client) (2024.8.30)\n",
      "Requirement already satisfied: pinecone-plugin-interface<0.0.8,>=0.0.7 in c:\\users\\hp world\\appdata\\local\\programs\\python\\python312\\lib\\site-packages (from pinecone-client) (0.0.7)\n",
      "Requirement already satisfied: python-dateutil>=2.5.3 in c:\\users\\hp world\\appdata\\roaming\\python\\python312\\site-packages (from pinecone-client) (2.9.0.post0)\n",
      "Requirement already satisfied: typing-extensions>=3.7.4 in c:\\users\\hp world\\appdata\\local\\programs\\python\\python312\\lib\\site-packages (from pinecone-client) (4.12.2)\n",
      "Requirement already satisfied: urllib3>=1.26.5 in c:\\users\\hp world\\appdata\\local\\programs\\python\\python312\\lib\\site-packages (from pinecone-client) (2.2.3)\n",
      "Requirement already satisfied: six>=1.5 in c:\\users\\hp world\\appdata\\roaming\\python\\python312\\site-packages (from python-dateutil>=2.5.3->pinecone-client) (1.16.0)\n"
     ]
    },
    {
     "name": "stderr",
     "output_type": "stream",
     "text": [
      "\n",
      "[notice] A new release of pip is available: 25.0 -> 25.0.1\n",
      "[notice] To update, run: python.exe -m pip install --upgrade pip\n"
     ]
    }
   ],
   "source": [
    "!pip uninstall -y pinecone\n",
    "!pip install --upgrade pinecone-client\n"
   ]
  },
  {
   "cell_type": "code",
   "execution_count": null,
   "metadata": {},
   "outputs": [],
   "source": []
  }
 ],
 "metadata": {
  "kernelspec": {
   "display_name": "Python 3",
   "language": "python",
   "name": "python3"
  },
  "language_info": {
   "codemirror_mode": {
    "name": "ipython",
    "version": 3
   },
   "file_extension": ".py",
   "mimetype": "text/x-python",
   "name": "python",
   "nbconvert_exporter": "python",
   "pygments_lexer": "ipython3",
   "version": "3.12.5"
  }
 },
 "nbformat": 4,
 "nbformat_minor": 2
}
